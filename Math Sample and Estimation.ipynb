{
 "cells": [
  {
   "cell_type": "code",
   "execution_count": 32,
   "id": "90029341-bff0-4904-8288-379b340883c7",
   "metadata": {},
   "outputs": [
    {
     "name": "stdout",
     "output_type": "stream",
     "text": [
      "The Standard Error of the sample mean is 3.6514837167011076\n"
     ]
    }
   ],
   "source": [
    "#SE = s/sqrt(n)\n",
    "\n",
    "s = 20 \n",
    "n = 30 \n",
    "\n",
    "SE = s/(n**0.5) \n",
    "\n",
    "print(f\"The Standard Error of the sample mean is {SE}\") "
   ]
  },
  {
   "cell_type": "code",
   "execution_count": 46,
   "id": "dcf45497-8551-4d1e-96c0-36a3911454ad",
   "metadata": {},
   "outputs": [
    {
     "name": "stdout",
     "output_type": "stream",
     "text": [
      "The mean of the marks of the students is: 41.0\n",
      "The median of the marks of the students is: 40.5\n",
      "The standard deviation of the marks of the students is: 5.05266382858645\n",
      "18\n"
     ]
    }
   ],
   "source": [
    "import numpy as np\n",
    "marks = [34, 36, 36, 38, 38, 39, 39, 40, 40, 41, 41, 41, 41, 42, 42, 45, 49, 56]\n",
    "\n",
    "mean = np.mean(marks)\n",
    "median = np.median(marks)\n",
    "std_dev = np.std(marks,ddof=1)\n",
    "\n",
    "print(f\"The mean of the marks of the students is: {mean}\")\n",
    "print(f\"The median of the marks of the students is: {median}\")\n",
    "print(f\"The standard deviation of the marks of the students is: {std_dev}\")\n",
    "print(len(marks))\n"
   ]
  },
  {
   "cell_type": "code",
   "execution_count": 42,
   "id": "9c137ea0-f46a-4af0-a121-d42892627e5d",
   "metadata": {},
   "outputs": [
    {
     "name": "stdout",
     "output_type": "stream",
     "text": [
      "The Z-value of 95% confidence interval is 1.959963984540054\n",
      "The Z-value of 90% confidence interval is 1.644853626951472\n",
      "The Z-value of 94% confidence interval is 1.8807936081512506\n",
      "The Z-value of 60% confidence interval is 0.8416212335729143\n"
     ]
    }
   ],
   "source": [
    "#calculate the z-values in different CI  \n",
    "from scipy import stats\n",
    "from scipy.stats import norm \n",
    "\n",
    "#for 95% confidence level \n",
    "z_value_95 = stats.norm.ppf(0.975)\n",
    "\n",
    "#for 90% confidence level \n",
    "z_value_90 = stats.norm.ppf(0.95)\n",
    "\n",
    "#for 94% confidence level \n",
    "z_value_94 = stats.norm.ppf(0.97)\n",
    "\n",
    "#for 60% confidence level \n",
    "z_value_60 = stats.norm.ppf(0.80)\n",
    "\n",
    "\n",
    "print(f\"The Z-value of 95% confidence interval is {z_value_95}\")\n",
    "print(f\"The Z-value of 90% confidence interval is {z_value_90}\")\n",
    "print(f\"The Z-value of 94% confidence interval is {z_value_94}\")\n",
    "print(f\"The Z-value of 60% confidence interval is {z_value_60}\")\n"
   ]
  },
  {
   "cell_type": "code",
   "execution_count": 52,
   "id": "8c0abc3d-4e41-432d-9d4d-c89ffca4843d",
   "metadata": {},
   "outputs": [],
   "source": [
    "#The following information is given about a company's monthly repayment for a car loans\n",
    "\n",
    "# Sample Mean: 1990\n",
    "# Sample Standard Deviation: 2833\n",
    "# Population Mean: Unknown\n",
    "# Sample Size: 140\n",
    "\n",
    "\n",
    "# The task is to construct a 95% confidence interval for the mean monthly repayment for a car loan and interpret it.\n",
    "\n",
    "# The formula for the confidence interval is:\n",
    "# Confidence Interval = Sample Mean (t-value Sample Standard Deviation / SQRT(Sample Size))\n",
    "# Lower Bound = Sample Mean - (t-value Sample Standard Deviation / SQRT(Sample Size))\n",
    "# Upper Bound = Sample Mean + (t-value Sample Standard Deviation / SQRT(Sample Size))"
   ]
  },
  {
   "cell_type": "code",
   "execution_count": 56,
   "id": "69998164-af2f-4058-8c30-4c887ba82a70",
   "metadata": {},
   "outputs": [
    {
     "name": "stdout",
     "output_type": "stream",
     "text": [
      "1.977177724476122\n"
     ]
    }
   ],
   "source": [
    "import numpy as np\n",
    "import pandas as pd \n",
    "from scipy import stats\n",
    "from scipy.stats import t \n",
    "\n",
    "sample_mean = 1990\n",
    "sample_sdt = 2833\n",
    "sample_size = 140 \n",
    "confidence_level = 0.95 \n",
    "\n",
    "\n",
    "#calculating the t_value, since the population mean is unkown \n",
    "t_value = stats.t.ppf(0.975, df= sample_size -1)\n",
    "print(t_value)\n"
   ]
  },
  {
   "cell_type": "code",
   "execution_count": 58,
   "id": "2aa4ec40-c4f8-4fa3-9820-fe58b6a90250",
   "metadata": {},
   "outputs": [
    {
     "name": "stdout",
     "output_type": "stream",
     "text": [
      "239.43220036458874\n"
     ]
    }
   ],
   "source": [
    "#calculating the sample standard error \n",
    "\n",
    "SE = sample_sdt/(sample_size**0.5) \n",
    "\n",
    "print(SE) \n"
   ]
  },
  {
   "cell_type": "code",
   "execution_count": 68,
   "id": "45592d76-0b10-4506-a17d-02532554bd79",
   "metadata": {},
   "outputs": [
    {
     "name": "stdout",
     "output_type": "stream",
     "text": [
      "95% Confidence Interval: [1516.5999869168315, 2463.4000130831682]\n"
     ]
    }
   ],
   "source": [
    "#95% confidence interval using  t value = Sample mean +/- (t_value * SE)\n",
    "\n",
    "lower_bound = sample_mean - (t_value*SE) \n",
    "upper_bound = sample_mean + (t_value*SE) \n",
    "\n",
    "print(f\"95% Confidence Interval: [{lower_bound}, {upper_bound}]\")\n",
    "\n",
    "\n"
   ]
  },
  {
   "cell_type": "code",
   "execution_count": 74,
   "id": "07a9af61-8400-4eef-907d-ab5829f04f46",
   "metadata": {},
   "outputs": [
    {
     "name": "stdout",
     "output_type": "stream",
     "text": [
      "22.102564102564102\n"
     ]
    }
   ],
   "source": [
    "sample = [12, 12, 13, 13, 15, 16, 17, 22, 23, 25, 26, 27, 28, 28, 29, 17, 22, 23, 25, 26, 27, 28, 28, 29, 13, 15, 16,\n",
    "17, 22, 23, 25, 26, 27, 28, 28, 29, 17, 22, 23]\n",
    "\n",
    "pop_std = 5.6 \n",
    "sample_size = 39 \n",
    "\n",
    "#to calculate the confidence interval, i need the lower and upper bound, and for that i need the sample mean +/- margin of error\n",
    "#the margin of error is calculated by z_value*standard error\n",
    "#and the standard error is caluclated by standard_dev/sqr(n) \n",
    "\n",
    "import numpy as np \n",
    "from scipy import stats \n",
    "from scipy.stats import norm \n",
    "\n",
    "\n",
    "#calculating the mean \n",
    "sample_mean = np.mean(sample) \n",
    "print(sample_mean)"
   ]
  },
  {
   "cell_type": "code",
   "execution_count": 76,
   "id": "c3d701c2-5ee0-4b02-8068-f0fbb63caaeb",
   "metadata": {},
   "outputs": [
    {
     "name": "stdout",
     "output_type": "stream",
     "text": [
      "0.8967176613084878\n"
     ]
    }
   ],
   "source": [
    "#calculating standard error \n",
    "\n",
    "SE = pop_std/(sample_size**0.5)\n",
    "print(SE)"
   ]
  },
  {
   "cell_type": "code",
   "execution_count": 78,
   "id": "798570a2-1ae2-4ff2-8d72-6439e4537766",
   "metadata": {},
   "outputs": [
    {
     "name": "stdout",
     "output_type": "stream",
     "text": [
      "1.959963984540054\n"
     ]
    }
   ],
   "source": [
    "#calculating the z_value \n",
    "\n",
    "z_value = stats.norm.ppf(0.975)\n",
    "print(z_value)"
   ]
  },
  {
   "cell_type": "code",
   "execution_count": 80,
   "id": "3e653a3f-fd2d-4c8f-aa88-56eeb64d92d2",
   "metadata": {},
   "outputs": [
    {
     "name": "stdout",
     "output_type": "stream",
     "text": [
      "1.7575343204656224\n"
     ]
    }
   ],
   "source": [
    "#calcualting margin of error\n",
    "\n",
    "ME = z_value*SE\n",
    "\n",
    "print(ME)"
   ]
  },
  {
   "cell_type": "code",
   "execution_count": 82,
   "id": "92489f0f-5761-44bb-977b-9d526ca2a950",
   "metadata": {},
   "outputs": [
    {
     "name": "stdout",
     "output_type": "stream",
     "text": [
      "The confidence_interval is [20.34502978209848:23.860098423029726]\n"
     ]
    }
   ],
   "source": [
    "lower_bound = sample_mean - ME \n",
    "upper_bound = sample_mean + ME\n",
    "\n",
    "print(f\"The confidence_interval is [{lower_bound}:{upper_bound}]\")"
   ]
  },
  {
   "cell_type": "code",
   "execution_count": 110,
   "id": "9423e91f-0043-4a0e-8c36-d89c166d5252",
   "metadata": {},
   "outputs": [
    {
     "name": "stdout",
     "output_type": "stream",
     "text": [
      "The sample size is 15\n",
      "The point estimate is 20.4\n",
      "The sample standard deveation is 6.577016257935117\n"
     ]
    }
   ],
   "source": [
    "student_time = [12, 12, 13, 13, 15, 16, 17, 22, 23, 25, 26, 27, 28, 28, 29]\n",
    "\n",
    "sample_size = len(student_time) \n",
    "sample_mean = np.mean(student_time)\n",
    "sample_std =np.std(student_time,ddof=1)\n",
    "\n",
    "print(f\"The sample size is {sample_size}\")\n",
    "print(f\"The point estimate is {sample_mean}\")\n",
    "print(f\"The sample standard deveation is {sample_std}\")"
   ]
  },
  {
   "cell_type": "code",
   "execution_count": 116,
   "id": "402e1208-7aa7-411a-93be-ceffa038d33a",
   "metadata": {},
   "outputs": [
    {
     "name": "stdout",
     "output_type": "stream",
     "text": [
      "1.6981782956478755\n"
     ]
    }
   ],
   "source": [
    "from scipy.stats import t \n",
    "degree_freedom = sample_size - 1 \n",
    "\n",
    "SE = sample_std/(sample_size**0.5) \n",
    "\n",
    "t_critical = stats.t.ppf(0.975,degree_freedom) \n",
    "\n",
    "ME = t_critical*SE\n",
    "\n",
    "print(SE)"
   ]
  },
  {
   "cell_type": "code",
   "execution_count": 118,
   "id": "35905144-210a-4bda-a70d-cdf8edae285c",
   "metadata": {},
   "outputs": [
    {
     "name": "stdout",
     "output_type": "stream",
     "text": [
      "16.75776979778498\n",
      "24.042230202215016\n"
     ]
    }
   ],
   "source": [
    "lower_bound = sample_mean - ME \n",
    "upper_bound = sample_mean + ME\n",
    "\n",
    "\n",
    "print(lower_bound) \n",
    "print(upper_bound)"
   ]
  },
  {
   "cell_type": "code",
   "execution_count": 120,
   "id": "3dfb43e4-76e8-4977-aa74-fc60df3c9911",
   "metadata": {},
   "outputs": [],
   "source": [
    "x = [6.5, 7, 7.2, 6.8, 8, 7.5, 7.8, 6.9, 7.1, 6.7, 7.4, 8.2, 6.6, 7.3, 7.0, 6.4, 7.6, 7.9, 6.8, 8.1]\n",
    "\n",
    "sample_size = len(x) \n",
    "point_estimate = np.mean(x) \n",
    "sample_std = np.std(x,ddof=1)\n",
    "\n",
    "df = sample_size - 1\n"
   ]
  },
  {
   "cell_type": "code",
   "execution_count": 122,
   "id": "a3210c03-d23d-4c30-9174-3d8fc5792a6f",
   "metadata": {},
   "outputs": [
    {
     "name": "stdout",
     "output_type": "stream",
     "text": [
      "Using a 95% confidence level, the confidence interval for the true population mean number of sleep hours per night is [6.9812408444891485,7.498759155510852]\n"
     ]
    }
   ],
   "source": [
    "std_error = sample_std/(sample_size**0.5) \n",
    "\n",
    "t_critic = stats.t.ppf(0.975,df) \n",
    "\n",
    "margin_error = t_critic*std_error \n",
    "\n",
    "\n",
    "lower_bound = point_estimate - margin_error \n",
    "upper_bound = point_estimate + margin_error \n",
    "\n",
    "\n",
    "print(f\"Using a 95% confidence level, the confidence interval for the true population mean number of sleep hours per night is [{lower_bound},{upper_bound}]\")"
   ]
  },
  {
   "cell_type": "code",
   "execution_count": null,
   "id": "97c643a4-a466-486b-92d7-280b0298a2e2",
   "metadata": {},
   "outputs": [],
   "source": []
  }
 ],
 "metadata": {
  "kernelspec": {
   "display_name": "Python [conda env:base] *",
   "language": "python",
   "name": "conda-base-py"
  },
  "language_info": {
   "codemirror_mode": {
    "name": "ipython",
    "version": 3
   },
   "file_extension": ".py",
   "mimetype": "text/x-python",
   "name": "python",
   "nbconvert_exporter": "python",
   "pygments_lexer": "ipython3",
   "version": "3.12.7"
  }
 },
 "nbformat": 4,
 "nbformat_minor": 5
}
