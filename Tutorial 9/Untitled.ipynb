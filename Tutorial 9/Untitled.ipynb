{
 "cells": [
  {
   "cell_type": "code",
   "execution_count": 2,
   "id": "97a4063d",
   "metadata": {},
   "outputs": [
    {
     "name": "stdout",
     "output_type": "stream",
     "text": [
      "          Country  Human Development Index  Mean Mathematics Performance Score\n",
      "0          Norway                     94.9                                 502\n",
      "1       Australia                     93.9                                 494\n",
      "2     New Zealand                     91.5                                 495\n",
      "3   United States                     92.0                                 470\n",
      "4         Ireland                     92.3                                 504\n",
      "5         Iceland                     92.1                                 488\n",
      "6     Netherlands                     92.4                                 512\n",
      "7          Canada                     92.0                                 516\n",
      "8         Germany                     92.6                                 506\n",
      "9       Singapore                     92.5                                 564\n",
      "10      Argentina                     82.7                                 409\n",
      "11         Brazil                     75.4                                 377\n",
      "12       Colombia                     72.7                                 390\n",
      "13        Tunisia                     72.5                                 367\n",
      "14         Jordan                     74.1                                 380\n",
      "15         Turkey                     76.7                                 420\n",
      "16       Thailand                     74.0                                 415\n",
      "17      Indonesia                     68.9                                 386\n",
      "18        Vietnam                     68.3                                 495\n"
     ]
    }
   ],
   "source": [
    "import pandas as pd \n",
    "import numpy as np\n",
    "import sklearn \n",
    "\n",
    "data = pd.read_csv(\"HDI.csv\")\n",
    "print(data)"
   ]
  },
  {
   "cell_type": "code",
   "execution_count": 3,
   "id": "30f3c8c2",
   "metadata": {},
   "outputs": [],
   "source": [
    "X = data[\"Human Development Index\"]\n",
    "Y = data[\"Mean Mathematics Performance Score\"]"
   ]
  },
  {
   "cell_type": "code",
   "execution_count": 5,
   "id": "434ad5ba",
   "metadata": {},
   "outputs": [
    {
     "data": {
      "image/png": "[encoded data removed]",
      "text/plain": [
       "<Figure size 640x480 with 1 Axes>"
      ]
     },
     "metadata": {},
     "output_type": "display_data"
    }
   ],
   "source": [
    "import matplotlib.pyplot as plt \n",
    "plt.scatter(X,Y)\n",
    "plt.xlabel(\"Human Development Index\")\n",
    "plt.ylabel(\"Mean Mathematics Performance Score\")\n",
    "plt.show()"
   ]
  },
  {
   "cell_type": "code",
   "execution_count": 7,
   "id": "7911300e",
   "metadata": {},
   "outputs": [
    {
     "data": {
      "text/plain": [
       "LinregressResult(slope=4.757614700316079, intercept=58.85558970773474, rvalue=0.7922409855274186, pvalue=5.270846568744181e-05, stderr=0.8887623344286066, intercept_stderr=74.94996580217531)"
      ]
     },
     "execution_count": 7,
     "metadata": {},
     "output_type": "execute_result"
    }
   ],
   "source": [
    "import numpy as np \n",
    "import scipy.stats\n",
    "result = scipy.stats.linregress(X,Y)\n",
    "result"
   ]
  },
  {
   "cell_type": "code",
   "execution_count": 9,
   "id": "f0e6a300",
   "metadata": {},
   "outputs": [
    {
     "name": "stdout",
     "output_type": "stream",
     "text": [
      "                                    OLS Regression Results                                    \n",
      "==============================================================================================\n",
      "Dep. Variable:     Mean Mathematics Performance Score   R-squared:                       0.628\n",
      "Model:                                            OLS   Adj. R-squared:                  0.606\n",
      "Method:                                 Least Squares   F-statistic:                     28.66\n",
      "Date:                                Thu, 15 May 2025   Prob (F-statistic):           5.27e-05\n",
      "Time:                                        14:19:42   Log-Likelihood:                -94.937\n",
      "No. Observations:                                  19   AIC:                             193.9\n",
      "Df Residuals:                                      17   BIC:                             195.8\n",
      "Df Model:                                           1                                         \n",
      "Covariance Type:                            nonrobust                                         \n",
      "===========================================================================================\n",
      "                              coef    std err          t      P>|t|      [0.025      0.975]\n",
      "-------------------------------------------------------------------------------------------\n",
      "const                      58.8556     74.950      0.785      0.443     -99.275     216.986\n",
      "Human Development Index     4.7576      0.889      5.353      0.000       2.882       6.633\n",
      "==============================================================================\n",
      "Omnibus:                       15.455   Durbin-Watson:                   1.340\n",
      "Prob(Omnibus):                  0.000   Jarque-Bera (JB):               14.432\n",
      "Skew:                           1.615   Prob(JB):                     0.000735\n",
      "Kurtosis:                       5.792   Cond. No.                         728.\n",
      "==============================================================================\n",
      "\n",
      "Notes:\n",
      "[1] Standard Errors assume that the covariance matrix of the errors is correctly specified.\n"
     ]
    },
    {
     "name": "stderr",
     "output_type": "stream",
     "text": [
      "C:\\ProgramData\\anaconda3\\lib\\site-packages\\scipy\\stats\\_stats_py.py:1736: UserWarning: kurtosistest only valid for n>=20 ... continuing anyway, n=19\n",
      "  warnings.warn(\"kurtosistest only valid for n>=20 ... continuing \"\n"
     ]
    }
   ],
   "source": [
    "import statsmodels.api as sm \n",
    "\n",
    "#add constant term to the predictor variable \n",
    "X_with_constant = sm.add_constant(X)\n",
    "\n",
    "\n",
    "#fit the linear regression model  (Least Square Estimate - to find the beta values)\n",
    "model = sm.OLS(Y,X_with_constant).fit()\n",
    "\n",
    "#Print the sdummary of the regression \n",
    "print(model.summary())"
   ]
  },
  {
   "cell_type": "markdown",
   "id": "7beea88f",
   "metadata": {},
   "source": [
    "## Simple Regression Equation"
   ]
  },
  {
   "cell_type": "code",
   "execution_count": 11,
   "id": "ed411575",
   "metadata": {},
   "outputs": [
    {
     "name": "stdout",
     "output_type": "stream",
     "text": [
      "    Sales_Effort  Product_Sales\n",
      "0            100             10\n",
      "1             82              8\n",
      "2             71              7\n",
      "3            111             11\n",
      "4            112             11\n",
      "5             61              6\n",
      "6             62              6\n",
      "7            113             11\n",
      "8            101             10\n",
      "9             99             10\n",
      "10            79              8\n",
      "11            81              8\n",
      "12            51              5\n",
      "13            50              5\n",
      "14            49              5\n",
      "15            30              3\n",
      "16            31              3\n",
      "17            29              3\n",
      "18            20              2\n",
      "19            41              4\n",
      "20            39              4\n"
     ]
    }
   ],
   "source": [
    "import pandas as pd \n",
    "import numpy as np\n",
    "import sklearn \n",
    "\n",
    "df = pd.read_csv(\"cust1.csv\")\n",
    "print(df)"
   ]
  },
  {
   "cell_type": "code",
   "execution_count": 12,
   "id": "eff4945e",
   "metadata": {},
   "outputs": [],
   "source": [
    "y = df[\"Product_Sales\"]\n",
    "X = df.drop([\"Product_Sales\"], axis =1)"
   ]
  },
  {
   "cell_type": "code",
   "execution_count": 17,
   "id": "0542a26a",
   "metadata": {},
   "outputs": [],
   "source": [
    "train_sample = 15\n",
    "from sklearn.model_selection import train_test_split\n",
    "from sklearn.linear_model import LinearRegression\n",
    "\n",
    "X_train, X_test, y_train, y_test = train_test_split(X,y,\n",
    "                                                   train_size=train_sample, test_size=6)"
   ]
  },
  {
   "cell_type": "code",
   "execution_count": 20,
   "id": "22efdf5e",
   "metadata": {},
   "outputs": [
    {
     "data": {
      "text/html": [
       "<style>#sk-container-id-1 {color: black;background-color: white;}#sk-container-id-1 pre{padding: 0;}#sk-container-id-1 div.sk-toggleable {background-color: white;}#sk-container-id-1 label.sk-toggleable__label {cursor: pointer;display: block;width: 100%;margin-bottom: 0;padding: 0.3em;box-sizing: border-box;text-align: center;}#sk-container-id-1 label.sk-toggleable__label-arrow:before {content: \"▸\";float: left;margin-right: 0.25em;color: #696969;}#sk-container-id-1 label.sk-toggleable__label-arrow:hover:before {color: black;}#sk-container-id-1 div.sk-estimator:hover label.sk-toggleable__label-arrow:before {color: black;}#sk-container-id-1 div.sk-toggleable__content {max-height: 0;max-width: 0;overflow: hidden;text-align: left;background-color: #f0f8ff;}#sk-container-id-1 div.sk-toggleable__content pre {margin: 0.2em;color: black;border-radius: 0.25em;background-color: #f0f8ff;}#sk-container-id-1 input.sk-toggleable__control:checked~div.sk-toggleable__content {max-height: 200px;max-width: 100%;overflow: auto;}#sk-container-id-1 input.sk-toggleable__control:checked~label.sk-toggleable__label-arrow:before {content: \"▾\";}#sk-container-id-1 div.sk-estimator input.sk-toggleable__control:checked~label.sk-toggleable__label {background-color: #d4ebff;}#sk-container-id-1 div.sk-label input.sk-toggleable__control:checked~label.sk-toggleable__label {background-color: #d4ebff;}#sk-container-id-1 input.sk-hidden--visually {border: 0;clip: rect(1px 1px 1px 1px);clip: rect(1px, 1px, 1px, 1px);height: 1px;margin: -1px;overflow: hidden;padding: 0;position: absolute;width: 1px;}#sk-container-id-1 div.sk-estimator {font-family: monospace;background-color: #f0f8ff;border: 1px dotted black;border-radius: 0.25em;box-sizing: border-box;margin-bottom: 0.5em;}#sk-container-id-1 div.sk-estimator:hover {background-color: #d4ebff;}#sk-container-id-1 div.sk-parallel-item::after {content: \"\";width: 100%;border-bottom: 1px solid gray;flex-grow: 1;}#sk-container-id-1 div.sk-label:hover label.sk-toggleable__label {background-color: #d4ebff;}#sk-container-id-1 div.sk-serial::before {content: \"\";position: absolute;border-left: 1px solid gray;box-sizing: border-box;top: 0;bottom: 0;left: 50%;z-index: 0;}#sk-container-id-1 div.sk-serial {display: flex;flex-direction: column;align-items: center;background-color: white;padding-right: 0.2em;padding-left: 0.2em;position: relative;}#sk-container-id-1 div.sk-item {position: relative;z-index: 1;}#sk-container-id-1 div.sk-parallel {display: flex;align-items: stretch;justify-content: center;background-color: white;position: relative;}#sk-container-id-1 div.sk-item::before, #sk-container-id-1 div.sk-parallel-item::before {content: \"\";position: absolute;border-left: 1px solid gray;box-sizing: border-box;top: 0;bottom: 0;left: 50%;z-index: -1;}#sk-container-id-1 div.sk-parallel-item {display: flex;flex-direction: column;z-index: 1;position: relative;background-color: white;}#sk-container-id-1 div.sk-parallel-item:first-child::after {align-self: flex-end;width: 50%;}#sk-container-id-1 div.sk-parallel-item:last-child::after {align-self: flex-start;width: 50%;}#sk-container-id-1 div.sk-parallel-item:only-child::after {width: 0;}#sk-container-id-1 div.sk-dashed-wrapped {border: 1px dashed gray;margin: 0 0.4em 0.5em 0.4em;box-sizing: border-box;padding-bottom: 0.4em;background-color: white;}#sk-container-id-1 div.sk-label label {font-family: monospace;font-weight: bold;display: inline-block;line-height: 1.2em;}#sk-container-id-1 div.sk-label-container {text-align: center;}#sk-container-id-1 div.sk-container {/* jupyter's `normalize.less` sets `[hidden] { display: none; }` but bootstrap.min.css set `[hidden] { display: none !important; }` so we also need the `!important` here to be able to override the default hidden behavior on the sphinx rendered scikit-learn.org. See: https://github.com/scikit-learn/scikit-learn/issues/21755 */display: inline-block !important;position: relative;}#sk-container-id-1 div.sk-text-repr-fallback {display: none;}</style><div id=\"sk-container-id-1\" class=\"sk-top-container\"><div class=\"sk-text-repr-fallback\"><pre>LinearRegression()</pre><b>In a Jupyter environment, please rerun this cell to show the HTML representation or trust the notebook. <br />On GitHub, the HTML representation is unable to render, please try loading this page with nbviewer.org.</b></div><div class=\"sk-container\" hidden><div class=\"sk-item\"><div class=\"sk-estimator sk-toggleable\"><input class=\"sk-toggleable__control sk-hidden--visually\" id=\"sk-estimator-id-1\" type=\"checkbox\" checked><label for=\"sk-estimator-id-1\" class=\"sk-toggleable__label sk-toggleable__label-arrow\">LinearRegression</label><div class=\"sk-toggleable__content\"><pre>LinearRegression()</pre></div></div></div></div></div>"
      ],
      "text/plain": [
       "LinearRegression()"
      ]
     },
     "execution_count": 20,
     "metadata": {},
     "output_type": "execute_result"
    }
   ],
   "source": [
    "#running the Linear Regression\n",
    "Line_Reg = LinearRegression()\n",
    "Line_Reg.fit(X_train,y_train)"
   ]
  },
  {
   "cell_type": "code",
   "execution_count": 22,
   "id": "72e354c8",
   "metadata": {},
   "outputs": [
    {
     "name": "stdout",
     "output_type": "stream",
     "text": [
      "[0.09855362] 0.03422083421554145\n"
     ]
    }
   ],
   "source": [
    "#print regression coefficient \n",
    "print(Line_Reg.coef_, Line_Reg.intercept_)"
   ]
  },
  {
   "cell_type": "code",
   "execution_count": 23,
   "id": "d0695ba4",
   "metadata": {},
   "outputs": [
    {
     "data": {
      "text/plain": [
       "0.9985012170201029"
      ]
     },
     "execution_count": 23,
     "metadata": {},
     "output_type": "execute_result"
    }
   ],
   "source": [
    "#print the regression score using the test data \n",
    "#this provides the regression model accuracy \n",
    "\n",
    "Line_Reg.score(X_test,y_test)"
   ]
  },
  {
   "cell_type": "code",
   "execution_count": 25,
   "id": "cf751287",
   "metadata": {},
   "outputs": [
    {
     "data": {
      "text/plain": [
       "0.014821298356760193"
      ]
     },
     "execution_count": 25,
     "metadata": {},
     "output_type": "execute_result"
    }
   ],
   "source": [
    "#finding the mean square error on the test predictions \n",
    "np.mean((Line_Reg.predict(X_test)-y_test)**2)"
   ]
  },
  {
   "cell_type": "code",
   "execution_count": 26,
   "id": "9d4a7356",
   "metadata": {},
   "outputs": [
    {
     "name": "stdout",
     "output_type": "stream",
     "text": [
      "[ 9.98813651 10.97367272  2.89227583 11.17077996  9.79102927  5.06045548]\n",
      "8     10\n",
      "3     11\n",
      "17     3\n",
      "7     11\n",
      "9     10\n",
      "12     5\n",
      "Name: Product_Sales, dtype: int64\n"
     ]
    }
   ],
   "source": [
    "#run the model on the test data to arrive at the predicted values \n",
    "predicted = Line_Reg.predict(X_test)\n",
    "\n",
    "print(predicted)\n",
    "print(y_test)"
   ]
  },
  {
   "cell_type": "code",
   "execution_count": 28,
   "id": "fac4b8b7",
   "metadata": {},
   "outputs": [],
   "source": [
    "#as you can see above there is high agreement between the predicted and \n",
    "#actual data "
   ]
  },
  {
   "cell_type": "code",
   "execution_count": 30,
   "id": "359a4c17",
   "metadata": {},
   "outputs": [
    {
     "name": "stdout",
     "output_type": "stream",
     "text": [
      "[ 9.88958289  8.11561772  7.0315279  10.97367272 11.07222634  6.04599169\n",
      "  6.14454531 11.17077996  9.98813651  9.79102927  7.81995686  8.0170641\n",
      "  5.06045548  4.96190186  4.86334824  2.99082945  3.08938307  2.89227583\n",
      "  2.00529325  4.07491928  3.87781204]\n",
      "0     10\n",
      "1      8\n",
      "2      7\n",
      "3     11\n",
      "4     11\n",
      "5      6\n",
      "6      6\n",
      "7     11\n",
      "8     10\n",
      "9     10\n",
      "10     8\n",
      "11     8\n",
      "12     5\n",
      "13     5\n",
      "14     5\n",
      "15     3\n",
      "16     3\n",
      "17     3\n",
      "18     2\n",
      "19     4\n",
      "20     4\n",
      "Name: Product_Sales, dtype: int64\n"
     ]
    }
   ],
   "source": [
    "#We will use the entire data set to carry out the\n",
    "#prediction using the regression model generated \n",
    "predicted_full = Line_Reg.predict(X)\n",
    "#printing the predicted and actual responses values \n",
    "print(predicted_full)\n",
    "print(y)"
   ]
  },
  {
   "cell_type": "markdown",
   "id": "894dc026",
   "metadata": {},
   "source": [
    "## Testing the Assumptions of Regression \n"
   ]
  },
  {
   "cell_type": "code",
   "execution_count": 31,
   "id": "32c06670",
   "metadata": {},
   "outputs": [
    {
     "data": {
      "image/png": "[encoded data removed]",
      "text/plain": [
       "<Figure size 640x480 with 1 Axes>"
      ]
     },
     "metadata": {},
     "output_type": "display_data"
    }
   ],
   "source": [
    "#creating the scatter plot between response variable \n",
    "#actual values and predicted values \n",
    "import matplotlib.pyplot as plt \n",
    "plt.scatter(predicted_full,predicted_full-y)\n",
    "plt.xlabel(\"fitted\")\n",
    "plt.ylabel(\"residuals\")\n",
    "plt.show()"
   ]
  },
  {
   "cell_type": "code",
   "execution_count": 32,
   "id": "24b174a6",
   "metadata": {},
   "outputs": [
    {
     "data": {
      "image/png": "[encoded data removed]",
      "text/plain": [
       "<Figure size 640x480 with 1 Axes>"
      ]
     },
     "metadata": {},
     "output_type": "display_data"
    }
   ],
   "source": [
    "plt.scatter(df.Sales_Effort,df.Product_Sales)\n",
    "plt.xlabel(\"Sales_Effort\")\n",
    "plt.ylabel(\"Product_Sales\")\n",
    "plt.show()"
   ]
  },
  {
   "cell_type": "code",
   "execution_count": null,
   "id": "e4d69946",
   "metadata": {},
   "outputs": [],
   "source": []
  }
 ],
 "metadata": {
  "kernelspec": {
   "display_name": "Python 3 (ipykernel)",
   "language": "python",
   "name": "python3"
  },
  "language_info": {
   "codemirror_mode": {
    "name": "ipython",
    "version": 3
   },
   "file_extension": ".py",
   "mimetype": "text/x-python",
   "name": "python",
   "nbconvert_exporter": "python",
   "pygments_lexer": "ipython3",
   "version": "3.10.9"
  }
 },
 "nbformat": 4,
 "nbformat_minor": 5
}
