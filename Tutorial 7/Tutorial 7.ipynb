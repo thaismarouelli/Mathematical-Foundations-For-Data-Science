{
 "cells": [
  {
   "cell_type": "code",
   "execution_count": 5,
   "id": "b63f04e0",
   "metadata": {},
   "outputs": [
    {
     "name": "stdout",
     "output_type": "stream",
     "text": [
      "Sample size: 39\n",
      "Point Estmate: 22.102564102564102\n",
      "Critical Value (Z): 1.959963984540054\n",
      "Standard Error: 0.8967176613084878\n",
      "95% Confidence Interval: [20.34502978209848, 23.860098423029726]\n"
     ]
    }
   ],
   "source": [
    "#Calculate a confidence interval for the true populaton mean tme (in minutes) \n",
    "#students take to commute to College, using a sample of 39 students. Assume the populaton \n",
    "#standard deviaton is known to be 5.6 minutes. \n",
    "\n",
    "import numpy as np \n",
    "from scipy.stats import norm \n",
    "\n",
    "#sample data\n",
    "x = np.array ([12, 12, 13, 13, 15, 16, 17, 22, 23, 25, 26, 27, 28, 28, 29, 17, 22, 23,25, 26, \n",
    "               27, 28, 28, 29, 13, 15, 16, 17, 22, 23, 25, 26, 27, 28, 28, 29, 17, 22, 23 ])\n",
    "\n",
    "#poulation standard deveation \n",
    "population_std_dev = 5.6\n",
    "\n",
    "#population estimate (mean)\n",
    "sample_size = len(x)\n",
    "point_estimate = np.mean(x)\n",
    "\n",
    "#critical value based on z-distribution for 95% confidence level \n",
    "confidence_level = 0.95\n",
    "z_critical = norm.ppf( (1+confidence_level) / 2)\n",
    "\n",
    "#standard error\n",
    "standard_error = population_std_dev / np.sqrt(sample_size)\n",
    "\n",
    "#margin of error \n",
    "margin_of_eror = z_critical*standard_error\n",
    "\n",
    "#confidence interval \n",
    "lower_bound = point_estimate - margin_of_eror\n",
    "upper_bound = point_estimate + margin_of_eror\n",
    "\n",
    "\n",
    "#output results \n",
    "print(f\"Sample size: {sample_size}\")\n",
    "print(f\"Point Estmate: {point_estimate}\")\n",
    "print(f\"Critical Value (Z): {z_critical}\")\n",
    "print(f\"Standard Error: {standard_error}\")\n",
    "print(f\"95% Confidence Interval: [{lower_bound}, {upper_bound}\")\n"
   ]
  },
  {
   "cell_type": "code",
   "execution_count": 7,
   "id": "6b50a471",
   "metadata": {},
   "outputs": [
    {
     "name": "stdout",
     "output_type": "stream",
     "text": [
      "Sample size: 15\n",
      "Point Estmate: 20.4\n",
      "Critical Value (t): 2.1447866879169273\n",
      "Standard Error: 1.6981782956478755\n",
      "95% Confidence Interval: [16.75776979778498, 24.042230202215016]\n"
     ]
    }
   ],
   "source": [
    "#Use the data below to calculate a confidence interval for the true populaton mean tme (in minutes) \n",
    "#students take to commute to College, using a sample of 15 students. Assume the populaton \n",
    "#standard deviaton is Unknown and the data comes from a normally distributed populaton.\n",
    "\n",
    "import numpy as np \n",
    "from scipy.stats import t \n",
    "\n",
    "#sample data\n",
    "x = np.array ([12, 12, 13, 13, 15, 16, 17, 22, 23, 25, 26, 27, 28, 28, 29])\n",
    "\n",
    "#population estimate (mean)\n",
    "sample_size = len(x)\n",
    "point_estimate = np.mean(x)\n",
    "\n",
    "#degree of freedom for t-distribution \n",
    "df = sample_size -1\n",
    "\n",
    "#critical value based on z-distribution for 95% confidence level \n",
    "confidence_level = 0.95\n",
    "t_critical = t.ppf( (1+confidence_level) / 2, df)\n",
    "\n",
    "#standard error\n",
    "std_dev = np.std(x, ddof=1) #ddof=1 for sample standard deveation \n",
    "standard_error = std_dev / np.sqrt(sample_size)\n",
    "\n",
    "#margin of error \n",
    "margin_of_eror = t_critical*standard_error\n",
    "\n",
    "#confidence interval \n",
    "lower_bound = point_estimate - margin_of_eror\n",
    "upper_bound = point_estimate + margin_of_eror\n",
    "\n",
    "\n",
    "#output results \n",
    "print(f\"Sample size: {sample_size}\")\n",
    "print(f\"Point Estmate: {point_estimate}\")\n",
    "print(f\"Critical Value (t): {t_critical}\")\n",
    "print(f\"Standard Error: {standard_error}\")\n",
    "print(f\"95% Confidence Interval: [{lower_bound}, {upper_bound}]\")"
   ]
  },
  {
   "cell_type": "code",
   "execution_count": null,
   "id": "0c30b80d",
   "metadata": {},
   "outputs": [],
   "source": []
  }
 ],
 "metadata": {
  "kernelspec": {
   "display_name": "Python 3 (ipykernel)",
   "language": "python",
   "name": "python3"
  },
  "language_info": {
   "codemirror_mode": {
    "name": "ipython",
    "version": 3
   },
   "file_extension": ".py",
   "mimetype": "text/x-python",
   "name": "python",
   "nbconvert_exporter": "python",
   "pygments_lexer": "ipython3",
   "version": "3.10.9"
  }
 },
 "nbformat": 4,
 "nbformat_minor": 5
}
