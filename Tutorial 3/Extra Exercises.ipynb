{
 "cells": [
  {
   "cell_type": "code",
   "execution_count": 2,
   "id": "64626bb2",
   "metadata": {},
   "outputs": [
    {
     "name": "stdout",
     "output_type": "stream",
     "text": [
      "[7, -2, 5, 9, 0, -3]\n"
     ]
    }
   ],
   "source": [
    "x = [7, -2, 5, 9, 0, -3]\n",
    "print(x)"
   ]
  },
  {
   "cell_type": "code",
   "execution_count": 3,
   "id": "daf5bb8d",
   "metadata": {},
   "outputs": [
    {
     "name": "stdout",
     "output_type": "stream",
     "text": [
      "2.6666666666666665\n"
     ]
    }
   ],
   "source": [
    "import statistics as st\n",
    "\n",
    "mean = st.mean(x)\n",
    "\n",
    "print(mean)"
   ]
  },
  {
   "cell_type": "code",
   "execution_count": 4,
   "id": "0a4f7f20",
   "metadata": {},
   "outputs": [
    {
     "name": "stdout",
     "output_type": "stream",
     "text": [
      "[2, 4, 8, 4, 6, 2, 7, 8, 4, 3, 8, 9, 4, 3, 5]\n"
     ]
    }
   ],
   "source": [
    "A = [2,  4,  8,  4,  6,  2,  7,  8,  4,  3,  8,  9,  4,   3,  5]\n",
    "print (A)"
   ]
  },
  {
   "cell_type": "code",
   "execution_count": 9,
   "id": "d0ad0317",
   "metadata": {},
   "outputs": [],
   "source": [
    "A_sorted =sorted(A)"
   ]
  },
  {
   "cell_type": "code",
   "execution_count": 10,
   "id": "9cf17a22",
   "metadata": {},
   "outputs": [
    {
     "name": "stdout",
     "output_type": "stream",
     "text": [
      "[2, 2, 3, 3, 4, 4, 4, 4, 5, 6, 7, 8, 8, 8, 9]\n"
     ]
    }
   ],
   "source": [
    "print(A_sorted)"
   ]
  },
  {
   "cell_type": "code",
   "execution_count": 11,
   "id": "5a7dfb20",
   "metadata": {},
   "outputs": [
    {
     "data": {
      "text/plain": [
       "15"
      ]
     },
     "execution_count": 11,
     "metadata": {},
     "output_type": "execute_result"
    }
   ],
   "source": [
    "len(A)"
   ]
  },
  {
   "cell_type": "code",
   "execution_count": 12,
   "id": "acf68bb3",
   "metadata": {},
   "outputs": [
    {
     "data": {
      "text/plain": [
       "77"
      ]
     },
     "execution_count": 12,
     "metadata": {},
     "output_type": "execute_result"
    }
   ],
   "source": [
    "sum(A)"
   ]
  },
  {
   "cell_type": "code",
   "execution_count": 15,
   "id": "1177b24f",
   "metadata": {},
   "outputs": [
    {
     "name": "stdout",
     "output_type": "stream",
     "text": [
      "5.133333333333334\n"
     ]
    }
   ],
   "source": [
    "mean = sum(A)/len(A)\n",
    "print(mean)"
   ]
  },
  {
   "cell_type": "code",
   "execution_count": 17,
   "id": "48be0f2a",
   "metadata": {},
   "outputs": [
    {
     "name": "stdout",
     "output_type": "stream",
     "text": [
      "5.133333333333334\n"
     ]
    }
   ],
   "source": [
    "mean_A = st.mean(A)\n",
    "print(mean_A)"
   ]
  },
  {
   "cell_type": "code",
   "execution_count": 18,
   "id": "f56fb805",
   "metadata": {},
   "outputs": [
    {
     "data": {
      "text/plain": [
       "4"
      ]
     },
     "execution_count": 18,
     "metadata": {},
     "output_type": "execute_result"
    }
   ],
   "source": [
    "A.count(4)"
   ]
  },
  {
   "cell_type": "code",
   "execution_count": 23,
   "id": "970cd278",
   "metadata": {},
   "outputs": [
    {
     "name": "stdout",
     "output_type": "stream",
     "text": [
      "4\n"
     ]
    }
   ],
   "source": [
    "mode = st.mode(A)\n",
    "print(mode)"
   ]
  },
  {
   "cell_type": "code",
   "execution_count": 27,
   "id": "7cd8c25e",
   "metadata": {},
   "outputs": [
    {
     "name": "stdout",
     "output_type": "stream",
     "text": [
      "4\n"
     ]
    }
   ],
   "source": [
    "median = A[7]\n",
    "print(median)"
   ]
  },
  {
   "cell_type": "code",
   "execution_count": 25,
   "id": "98f5f39a",
   "metadata": {},
   "outputs": [
    {
     "name": "stdout",
     "output_type": "stream",
     "text": [
      "4\n"
     ]
    }
   ],
   "source": [
    "median_A = st.median(A)\n",
    "print(median_A)"
   ]
  },
  {
   "cell_type": "code",
   "execution_count": 29,
   "id": "6cde5208",
   "metadata": {},
   "outputs": [
    {
     "name": "stdout",
     "output_type": "stream",
     "text": [
      "[11, 13, 16, 17, 18, 19, 20, 25, 27, 28, 29, 30, 32, 33, 34]\n"
     ]
    }
   ],
   "source": [
    "z = sorted([16,  28,  29,  13,  17,  20,  11,  34,  32,  27,  25,  30,  19,  18,  33])\n",
    "print(z)"
   ]
  },
  {
   "cell_type": "code",
   "execution_count": 34,
   "id": "d5f2048e",
   "metadata": {},
   "outputs": [
    {
     "name": "stdout",
     "output_type": "stream",
     "text": [
      "5.6\n",
      "8.8\n",
      "4.0\n",
      "8.0\n",
      "12.0\n"
     ]
    }
   ],
   "source": [
    "# 35th percentile, the 55th percentile, Q1, Q2, Q3 and IQR\n",
    "\n",
    "L35 = 35/100*(len(z)+1)\n",
    "L55 = 55/100*(len(z)+1)\n",
    "L25 = 25/100*(len(z)+1)\n",
    "L50 = 50/100*(len(z)+1)\n",
    "L75 = 75/100*(len(z)+1)\n",
    "\n",
    "print(L35)\n",
    "print(L55)\n",
    "print(L25)\n",
    "print(L50)\n",
    "print(L75)"
   ]
  },
  {
   "cell_type": "code",
   "execution_count": 35,
   "id": "9a3e1351",
   "metadata": {},
   "outputs": [
    {
     "name": "stdout",
     "output_type": "stream",
     "text": [
      "18.5\n",
      "26.0\n",
      "17\n",
      "25\n",
      "30\n"
     ]
    }
   ],
   "source": [
    "percentile35th = (z[4]+z[5])/2\n",
    "percentile55th = (z[7]+z[8])/2\n",
    "Q1= z[3]\n",
    "Q2= z[7]\n",
    "Q3= z[11]\n",
    "\n",
    "print(percentile35th)\n",
    "print(percentile55th)\n",
    "print(Q1)\n",
    "print(Q2)\n",
    "print(Q3)"
   ]
  },
  {
   "cell_type": "code",
   "execution_count": 36,
   "id": "dfd8bb4d",
   "metadata": {},
   "outputs": [
    {
     "name": "stdout",
     "output_type": "stream",
     "text": [
      "13\n"
     ]
    }
   ],
   "source": [
    "IQR = Q3 - Q1\n",
    "print(IQR)"
   ]
  },
  {
   "cell_type": "code",
   "execution_count": 37,
   "id": "43b0d9c2",
   "metadata": {},
   "outputs": [
    {
     "name": "stdout",
     "output_type": "stream",
     "text": [
      "13.0\n"
     ]
    }
   ],
   "source": [
    "workers = [ 5, 9, 16, 17, 18 ]\n",
    "\n",
    "mean_w = sum(workers)/len(workers)\n",
    "print(mean_w)"
   ]
  },
  {
   "cell_type": "code",
   "execution_count": 39,
   "id": "5a7601fe",
   "metadata": {},
   "outputs": [
    {
     "name": "stdout",
     "output_type": "stream",
     "text": [
      "[-8.0, -4.0, 3.0, 4.0, 5.0]\n"
     ]
    }
   ],
   "source": [
    "xmean = [workers[0]-mean_w, workers[1]-mean_w, workers[2]-mean_w, workers[3]-mean_w, workers[4]-mean_w]\n",
    "print(xmean)"
   ]
  },
  {
   "cell_type": "code",
   "execution_count": 41,
   "id": "70eedc4d",
   "metadata": {},
   "outputs": [
    {
     "name": "stdout",
     "output_type": "stream",
     "text": [
      "[-64.0, -16.0, 9.0, 16.0, 25.0]\n"
     ]
    }
   ],
   "source": [
    "variation = [-8.0**2, -4.0**2, 3.0**2, 4.0**2, 5.0**2]\n",
    "\n",
    "print(variation)"
   ]
  },
  {
   "cell_type": "code",
   "execution_count": 42,
   "id": "bfc464ae",
   "metadata": {},
   "outputs": [
    {
     "data": {
      "text/plain": [
       "-30.0"
      ]
     },
     "execution_count": 42,
     "metadata": {},
     "output_type": "execute_result"
    }
   ],
   "source": [
    "sum(variation)"
   ]
  },
  {
   "cell_type": "code",
   "execution_count": null,
   "id": "3f19df83",
   "metadata": {},
   "outputs": [],
   "source": []
  }
 ],
 "metadata": {
  "kernelspec": {
   "display_name": "Python 3 (ipykernel)",
   "language": "python",
   "name": "python3"
  },
  "language_info": {
   "codemirror_mode": {
    "name": "ipython",
    "version": 3
   },
   "file_extension": ".py",
   "mimetype": "text/x-python",
   "name": "python",
   "nbconvert_exporter": "python",
   "pygments_lexer": "ipython3",
   "version": "3.10.9"
  }
 },
 "nbformat": 4,
 "nbformat_minor": 5
}
